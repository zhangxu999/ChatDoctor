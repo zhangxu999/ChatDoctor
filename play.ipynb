{
 "cells": [
  {
   "cell_type": "code",
   "execution_count": null,
   "metadata": {},
   "outputs": [],
   "source": [
    "from transformers import LlamaTokenizer"
   ]
  },
  {
   "cell_type": "code",
   "execution_count": null,
   "metadata": {},
   "outputs": [],
   "source": [
    "python train_lora.py \\\n",
    "  --base_model '/root/llama2-7b/llama2-7b' \\\n",
    "  --data_path 'HealthCareMagic-1k.json' \\\n",
    "  --output_dir './lora_models/' \\\n",
    "  --batch_size 32 \\\n",
    "  --micro_batch_size 4 \\\n",
    "  --num_epochs 1 \\\n",
    "  --learning_rate 3e-5 \\\n",
    "  --cutoff_len 256 \\\n",
    "  --val_set_size 120 \\\n",
    "  --adapter_name lora \\\n",
    "  --load_best_model_at_end false"
   ]
  },
  {
   "cell_type": "code",
   "execution_count": null,
   "metadata": {},
   "outputs": [],
   "source": [
    "accelerate launch --config_file ds_stage2.yaml train_lora.py \\\n",
    "  --base_model '/root/autodl-tmp/llama2-7b' \\\n",
    "  --data_path 'HealthCareMagic-1k.json' \\\n",
    "  --output_dir '/root/autodl-tmp/lora_models_1k/' \\\n",
    "  --batch_size 4 \\\n",
    "  --micro_batch_size 2 \\\n",
    "  --num_epochs 1 \\\n",
    "  --learning_rate 3e-5 \\\n",
    "  --cutoff_len 256 \\\n",
    "  --val_set_size 120 \\\n",
    "  --adapter_name lora \\\n",
    "  --load_best_model_at_end false"
   ]
  },
  {
   "cell_type": "code",
   "execution_count": null,
   "metadata": {
    "vscode": {
     "languageId": "shellscript"
    }
   },
   "outputs": [],
   "source": [
    "accelerate launch --config_file ds_stage/ds_stage3_3gpu.yaml train.py \\\n",
    "  --model_name_or_path '/root/autodl-tmp/llama2-7b' \\\n",
    "  --data_path 'data/HealthCareMagic-1k.json' \\\n",
    "  --output_dir '/root/autodl-tmp/full_train_models_1k/' \\\n",
    "   --num_train_epochs 1 \\\n",
    "   --per_device_train_batch_size 4 \\\n",
    "   --per_device_eval_batch_size 4 \\\n",
    "   --gradient_accumulation_steps 8 \\\n",
    "   --evaluation_strategy \"no\" \\\n",
    "   --save_strategy \"steps\" \\\n",
    "   --save_steps 2000 \\\n",
    "   --save_total_limit 1 \\\n",
    "   --learning_rate 2e-6 \\\n",
    "   --weight_decay 0. \\\n",
    "   --warmup_ratio 0.03 \\\n",
    "   --lr_scheduler_type \"cosine\" \\\n",
    "   --logging_steps 1 \\\n",
    "   --fp16 True"
   ]
  },
  {
   "cell_type": "code",
   "execution_count": null,
   "metadata": {
    "vscode": {
     "languageId": "shellscript"
    }
   },
   "outputs": [],
   "source": [
    "accelerate launch --config_file ds_stage/ds_stage2_3gpu.yaml train.py \\\n",
    "  --model_name_or_path '/root/autodl-tmp/llama2-7b' \\\n",
    "  --data_path 'data/HealthCareMagic-1k.json' \\\n",
    "  --output_dir '/root/autodl-tmp/full_train_models_1k/' \\\n",
    "   --num_train_epochs 1 \\\n",
    "   --per_device_train_batch_size 1 \\\n",
    "   --per_device_eval_batch_size 2 \\\n",
    "   --gradient_accumulation_steps 8 \\\n",
    "   --evaluation_strategy \"no\" \\\n",
    "   --save_strategy \"steps\" \\\n",
    "   --save_steps 20 \\\n",
    "   --save_total_limit 1 \\\n",
    "   --learning_rate 2e-5 \\\n",
    "   --weight_decay 0. \\\n",
    "   --warmup_ratio 0.03 \\\n",
    "   --lr_scheduler_type \"cosine\" \\\n",
    "   --logging_steps 1 \\\n",
    "   --fp16 True"
   ]
  },
  {
   "cell_type": "code",
   "execution_count": 13,
   "metadata": {
    "vscode": {
     "languageId": "shellscript"
    }
   },
   "outputs": [
    {
     "name": "stdout",
     "output_type": "stream",
     "text": [
      "\"--num_train_epochs\", \"1\", \\\n",
      "\"--per_device_train_batch_size\", \"1\", \\\n",
      "\"--per_device_eval_batch_size\", \"2\", \\\n",
      "\"--gradient_accumulation_steps\", \"8\", \\\n",
      "\"--evaluation_strategy\", \"\"no\"\", \\\n",
      "\"--save_strategy\", \"\"steps\"\", \\\n",
      "\"--save_steps\", \"20\", \\\n",
      "\"--save_total_limit\", \"1\", \\\n",
      "\"--learning_rate\", \"2e-5\", \\\n",
      "\"--weight_decay\", \"0.\", \\\n",
      "\"--warmup_ratio\", \"0.03\", \\\n",
      "\"--lr_scheduler_type\", \"\"cosine\"\", \\\n",
      "\"--logging_steps\", \"1\", \\\n",
      "\"--fp16\", \"True\", \\\n"
     ]
    }
   ],
   "source": [
    "raw = \"\"\"--num_train_epochs 1 \\\n",
    "   --per_device_train_batch_size 1 \\\n",
    "   --per_device_eval_batch_size 2 \\\n",
    "   --gradient_accumulation_steps 8 \\\n",
    "   --evaluation_strategy \"no\" \\\n",
    "   --save_strategy \"steps\" \\\n",
    "   --save_steps 20 \\\n",
    "   --save_total_limit 1 \\\n",
    "   --learning_rate 2e-5 \\\n",
    "   --weight_decay 0. \\\n",
    "   --warmup_ratio 0.03 \\\n",
    "   --lr_scheduler_type \"cosine\" \\\n",
    "   --logging_steps 1 \\\n",
    "   --fp16 True\"\"\"\n",
    "\n",
    "\n",
    "for i,s in enumerate(raw.split()):\n",
    "    print(f'\"{s}\",',end=' ')\n",
    "    if i%2==1:\n",
    "        print('\\\\')"
   ]
  },
  {
   "cell_type": "markdown",
   "metadata": {},
   "source": [
    "batch_size 8 micro 4   time :3h10min\n",
    "batch_size 8 micro 4   time :2h30min\n",
    "batch_size 48 micro 12   time :crash\n",
    "batch_size 40 micro 10   time :2h20min\n",
    "\n"
   ]
  },
  {
   "cell_type": "code",
   "execution_count": null,
   "metadata": {},
   "outputs": [],
   "source": [
    "WORLD_SIZE=6 CUDA_VISIBLE_DEVICES=0,1 torchrun --nproc_per_node=6 --master_port=4567 train_lora.py \\\n",
    "  --base_model '/root/llama2-7b/llama2-7b' \\\n",
    "  --data_path 'HealthCareMagic-100k.json' \\\n",
    "  --output_dir '/root/autodl-tmp/lora_models/' \\\n",
    "  --batch_size 4 \\\n",
    "  --micro_batch_size 2 \\\n",
    "  --num_epochs 1 \\\n",
    "  --learning_rate 3e-5 \\\n",
    "  --cutoff_len 256 \\\n",
    "  --val_set_size 120 \\\n",
    "  --adapter_name lora"
   ]
  },
  {
   "cell_type": "markdown",
   "metadata": {},
   "source": [
    "# Download Model"
   ]
  },
  {
   "cell_type": "code",
   "execution_count": 1,
   "metadata": {},
   "outputs": [
    {
     "name": "stdout",
     "output_type": "stream",
     "text": [
      "Looking in indexes: http://mirrors.aliyun.com/pypi/simple\n",
      "Collecting aligo\n",
      "  Downloading http://mirrors.aliyun.com/pypi/packages/79/ad/6c4d9f94e225c2b2e0622a98db2bfd2e08813bded85960c08d3a182dd71c/aligo-6.1.14-py3-none-any.whl (138 kB)\n",
      "\u001b[2K     \u001b[90m━━━━━━━━━━━━━━━━━━━━━━━━━━━━━━━━━━━━━━━\u001b[0m \u001b[32m138.8/138.8 kB\u001b[0m \u001b[31m1.5 MB/s\u001b[0m eta \u001b[36m0:00:00\u001b[0ma \u001b[36m0:00:01\u001b[0m\n",
      "\u001b[?25hCollecting datclass>=0.2.22 (from aligo)\n",
      "  Downloading http://mirrors.aliyun.com/pypi/packages/fb/73/70bf055428f48cbbd5f2417255f2266a48ce73aa901d013189d1fdba0463/datclass-0.2.27-py3-none-any.whl (12 kB)\n",
      "Requirement already satisfied: requests>=2.9.0 in /root/miniconda3/envs/py3.10/lib/python3.10/site-packages (from aligo) (2.31.0)\n",
      "Collecting qrcode[pil] (from aligo)\n",
      "  Downloading http://mirrors.aliyun.com/pypi/packages/24/79/aaf0c1c7214f2632badb2771d770b1500d3d7cbdf2590ae62e721ec50584/qrcode-7.4.2-py3-none-any.whl (46 kB)\n",
      "\u001b[2K     \u001b[90m━━━━━━━━━━━━━━━━━━━━━━━━━━━━━━━━━━━━━━━━\u001b[0m \u001b[32m46.2/46.2 kB\u001b[0m \u001b[31m2.3 MB/s\u001b[0m eta \u001b[36m0:00:00\u001b[0m\n",
      "\u001b[?25hCollecting coloredlogs (from aligo)\n",
      "  Downloading http://mirrors.aliyun.com/pypi/packages/a7/06/3d6badcf13db419e25b07041d9c7b4a2c331d3f4e7134445ec5df57714cd/coloredlogs-15.0.1-py2.py3-none-any.whl (46 kB)\n",
      "\u001b[2K     \u001b[90m━━━━━━━━━━━━━━━━━━━━━━━━━━━━━━━━━━━━━━━━\u001b[0m \u001b[32m46.0/46.0 kB\u001b[0m \u001b[31m2.1 MB/s\u001b[0m eta \u001b[36m0:00:00\u001b[0m\n",
      "\u001b[?25hRequirement already satisfied: tqdm>=4.50.0 in /root/miniconda3/envs/py3.10/lib/python3.10/site-packages (from aligo) (4.66.1)\n",
      "Collecting qrcode-terminal (from aligo)\n",
      "  Downloading http://mirrors.aliyun.com/pypi/packages/96/62/2422c088b7219db9f78c912418254db9896d1b20ab15e83aae2821419a65/qrcode-terminal-0.8.tar.gz (1.7 kB)\n",
      "  Preparing metadata (setup.py) ... \u001b[?25ldone\n",
      "\u001b[?25hRequirement already satisfied: charset-normalizer<4,>=2 in /root/miniconda3/envs/py3.10/lib/python3.10/site-packages (from requests>=2.9.0->aligo) (3.3.2)\n",
      "Requirement already satisfied: idna<4,>=2.5 in /root/miniconda3/envs/py3.10/lib/python3.10/site-packages (from requests>=2.9.0->aligo) (3.6)\n",
      "Requirement already satisfied: urllib3<3,>=1.21.1 in /root/miniconda3/envs/py3.10/lib/python3.10/site-packages (from requests>=2.9.0->aligo) (2.1.0)\n",
      "Requirement already satisfied: certifi>=2017.4.17 in /root/miniconda3/envs/py3.10/lib/python3.10/site-packages (from requests>=2.9.0->aligo) (2023.11.17)\n",
      "Collecting humanfriendly>=9.1 (from coloredlogs->aligo)\n",
      "  Downloading http://mirrors.aliyun.com/pypi/packages/f0/0f/310fb31e39e2d734ccaa2c0fb981ee41f7bd5056ce9bc29b2248bd569169/humanfriendly-10.0-py2.py3-none-any.whl (86 kB)\n",
      "\u001b[2K     \u001b[90m━━━━━━━━━━━━━━━━━━━━━━━━━━━━━━━━━━━━━━━━\u001b[0m \u001b[32m86.8/86.8 kB\u001b[0m \u001b[31m1.5 MB/s\u001b[0m eta \u001b[36m0:00:00\u001b[0ma \u001b[36m0:00:01\u001b[0m\n",
      "\u001b[?25hCollecting Pillow (from qrcode-terminal->aligo)\n",
      "  Downloading http://mirrors.aliyun.com/pypi/packages/cb/c3/98faa3e92cf866b9446c4842f1fe847e672b2f54e000cb984157b8095797/pillow-10.2.0-cp310-cp310-manylinux_2_28_x86_64.whl (4.5 MB)\n",
      "\u001b[2K     \u001b[90m━━━━━━━━━━━━━━━━━━━━━━━━━━━━━━━━━━━━━━━━\u001b[0m \u001b[32m4.5/4.5 MB\u001b[0m \u001b[31m2.7 MB/s\u001b[0m eta \u001b[36m0:00:00\u001b[0m00:01\u001b[0m00:01\u001b[0m\n",
      "\u001b[?25hRequirement already satisfied: typing-extensions in /root/miniconda3/envs/py3.10/lib/python3.10/site-packages (from qrcode[pil]->aligo) (4.9.0)\n",
      "Collecting pypng (from qrcode[pil]->aligo)\n",
      "  Downloading http://mirrors.aliyun.com/pypi/packages/3e/b9/3766cc361d93edb2ce81e2e1f87dd98f314d7d513877a342d31b30741680/pypng-0.20220715.0-py3-none-any.whl (58 kB)\n",
      "\u001b[2K     \u001b[90m━━━━━━━━━━━━━━━━━━━━━━━━━━━━━━━━━━━━━━━━\u001b[0m \u001b[32m58.1/58.1 kB\u001b[0m \u001b[31m1.9 MB/s\u001b[0m eta \u001b[36m0:00:00\u001b[0m\n",
      "\u001b[?25hBuilding wheels for collected packages: qrcode-terminal\n",
      "  Building wheel for qrcode-terminal (setup.py) ... \u001b[?25ldone\n",
      "\u001b[?25h  Created wheel for qrcode-terminal: filename=qrcode_terminal-0.8-py3-none-any.whl size=2616 sha256=f8ad97edcc5f8e7a381d7ace4116a8173a5192590377ee2674c12f5238322922\n",
      "  Stored in directory: /root/.cache/pip/wheels/1e/78/ab/b3e7ed4e6e68cb875977d80d4d36daab86d86002cf9af14786\n",
      "Successfully built qrcode-terminal\n",
      "Installing collected packages: pypng, qrcode, Pillow, humanfriendly, datclass, qrcode-terminal, coloredlogs, aligo\n",
      "Successfully installed Pillow-10.2.0 aligo-6.1.14 coloredlogs-15.0.1 datclass-0.2.27 humanfriendly-10.0 pypng-0.20220715.0 qrcode-7.4.2 qrcode-terminal-0.8\n",
      "\u001b[33mWARNING: Running pip as the 'root' user can result in broken permissions and conflicting behaviour with the system package manager. It is recommended to use a virtual environment instead: https://pip.pypa.io/warnings/venv\u001b[0m\u001b[33m\n",
      "\u001b[0m"
     ]
    }
   ],
   "source": [
    "!pip install aligo"
   ]
  },
  {
   "cell_type": "code",
   "execution_count": 1,
   "metadata": {},
   "outputs": [
    {
     "name": "stderr",
     "output_type": "stream",
     "text": [
      "14:41:52.045 aligo.INFO Config /root/.aligo/aligo.json\n",
      "14:41:52.138 aligo.INFO 日志等级 DEBUG\n",
      "14:41:52.139 aligo.INFO aligo 版本 6.1.14\n",
      "14:41:52.140 aligo.INFO 类 Unix 操作系统\n",
      "14:41:52.238 aligo.INFO 加载配置文件 /root/.aligo/aligo.json\n",
      "14:41:52.868 aligo.INFO POST https://api.aliyundrive.com/v2/user/get 401 84\n",
      "14:41:52.938 aligo.INFO 刷新 token\n",
      "14:41:53.141 aligo.INFO POST https://api.aliyundrive.com/v2/account/token 200 1877\n",
      "14:41:53.141 aligo.INFO 刷新 token 成功\n",
      "14:41:53.238 aligo.INFO 保存配置文件 /root/.aligo/aligo.json\n",
      "14:41:53.338 aligo.INFO POST https://api.aliyundrive.com/v2/user/get 200 486\n",
      "14:41:53.432 aligo.INFO POST https://api.aliyundrive.com/adrive/v3/file/list?jsonmask=next_marker%2Citems%28name%2Cfile_id%2Cdrive_id%2Ctype%2Csize%2Ccreated_at%2Cupdated_at%2Ccategory%2Cfile_extension%2Cparent_file_id%2Cmime_type%2Cstarred%2Cthumbnail%2Curl%2Cstreams_info%2Ccontent_hash%2Cuser_tags%2Cuser_meta%2Ctrashed%2Cvideo_media_metadata%2Cvideo_preview_metadata%2Csync_meta%2Csync_device_flag%2Csync_flag%2Cpunish_flag 400 128\n"
     ]
    },
    {
     "name": "stdout",
     "output_type": "stream",
     "text": [
      "199***060  19928708060\n"
     ]
    },
    {
     "name": "stderr",
     "output_type": "stream",
     "text": [
      "14:41:53.573 aligo.INFO POST https://api.aliyundrive.com/users/v1/users/device/create_session 200 57\n",
      "14:41:53.848 aligo.INFO POST https://api.aliyundrive.com/adrive/v3/file/list?jsonmask=next_marker%2Citems%28name%2Cfile_id%2Cdrive_id%2Ctype%2Csize%2Ccreated_at%2Cupdated_at%2Ccategory%2Cfile_extension%2Cparent_file_id%2Cmime_type%2Cstarred%2Cthumbnail%2Curl%2Cstreams_info%2Ccontent_hash%2Cuser_tags%2Cuser_meta%2Ctrashed%2Cvideo_media_metadata%2Cvideo_preview_metadata%2Csync_meta%2Csync_device_flag%2Csync_flag%2Cpunish_flag 200 8192\n"
     ]
    },
    {
     "data": {
      "text/plain": [
       "[BaseFile(type='folder', file_id='65b3d0941c5487ed78aa4a78ad09323360dd79e0', name='t5', parent_file_id='root'),\n",
       " BaseFile(type='folder', file_id='65b3c20bdeb2e2b8602e4251a870e3fa8552527d', name='t5_cnndailymail', parent_file_id='root'),\n",
       " BaseFile(type='folder', file_id='65aa9f672fa0583b0a7745d9843bf5741a49e306', name='github', parent_file_id='root'),\n",
       " BaseFile(type='folder', file_id='6593b23d8f73eed8e9994c71aeeae6540ab465e9', name='llama2-7b', parent_file_id='root'),\n",
       " BaseFile(type='file', file_id='623741b1cf596e4e16ed4e52a69d11fba9ce93c6', name='黑镜(1-5季).jpg', parent_file_id='root')]"
      ]
     },
     "execution_count": 1,
     "metadata": {},
     "output_type": "execute_result"
    }
   ],
   "source": [
    "from aligo import Aligo\n",
    "ali = Aligo()  # 第一次使用，会弹出二维码，供扫描登录\n",
    "user = ali.get_user()  # 获取用户信息\n",
    "print(user.user_name, user.nick_name, user.phone)  # 打印用户信息\n",
    "file_list = ali.get_file_list()  # 获取网盘根目录文件列表\n",
    "file_list\n"
   ]
  },
  {
   "cell_type": "code",
   "execution_count": 2,
   "metadata": {},
   "outputs": [
    {
     "name": "stderr",
     "output_type": "stream",
     "text": [
      "14:42:24.371 aligo.INFO POST https://api.aliyundrive.com/adrive/v3/file/list?jsonmask=next_marker%2Citems%28name%2Cfile_id%2Cdrive_id%2Ctype%2Csize%2Ccreated_at%2Cupdated_at%2Ccategory%2Cfile_extension%2Cparent_file_id%2Cmime_type%2Cstarred%2Cthumbnail%2Curl%2Cstreams_info%2Ccontent_hash%2Cuser_tags%2Cuser_meta%2Ctrashed%2Cvideo_media_metadata%2Cvideo_preview_metadata%2Csync_meta%2Csync_device_flag%2Csync_flag%2Cpunish_flag 200 3208\n",
      "14:42:24.493 aligo.INFO POST https://api.aliyundrive.com/adrive/v3/file/list?jsonmask=next_marker%2Citems%28name%2Cfile_id%2Cdrive_id%2Ctype%2Csize%2Ccreated_at%2Cupdated_at%2Ccategory%2Cfile_extension%2Cparent_file_id%2Cmime_type%2Cstarred%2Cthumbnail%2Curl%2Cstreams_info%2Ccontent_hash%2Cuser_tags%2Cuser_meta%2Ctrashed%2Cvideo_media_metadata%2Cvideo_preview_metadata%2Csync_meta%2Csync_device_flag%2Csync_flag%2Cpunish_flag 200 2588\n",
      "14:42:24.614 aligo.INFO POST https://api.aliyundrive.com/v2/file/get 200 836\n",
      "14:42:24.786 aligo.INFO POST https://api.aliyundrive.com/adrive/v3/file/list?jsonmask=next_marker%2Citems%28name%2Cfile_id%2Cdrive_id%2Ctype%2Csize%2Ccreated_at%2Cupdated_at%2Ccategory%2Cfile_extension%2Cparent_file_id%2Cmime_type%2Cstarred%2Cthumbnail%2Curl%2Cstreams_info%2Ccontent_hash%2Cuser_tags%2Cuser_meta%2Ctrashed%2Cvideo_media_metadata%2Cvideo_preview_metadata%2Csync_meta%2Csync_device_flag%2Csync_flag%2Cpunish_flag 200 79672\n",
      "14:42:24.789 aligo.INFO 开始下载文件 /root/autodl-tmp/llama2-7b/model-00001-of-00002.safetensors\n",
      "14:42:24.789 aligo.WARNING 文件已存在,跳过下载 /root/autodl-tmp/llama2-7b/model-00001-of-00002.safetensors\n",
      "14:42:24.790 aligo.INFO 开始下载文件 /root/autodl-tmp/llama2-7b/model-00002-of-00002.safetensors\n",
      "14:42:24.791 aligo.WARNING 文件已存在,跳过下载 /root/autodl-tmp/llama2-7b/model-00002-of-00002.safetensors\n",
      "14:42:24.791 aligo.INFO 开始下载文件 /root/autodl-tmp/llama2-7b/Responsible-Use-Guide.pdf\n",
      "14:42:24.792 aligo.WARNING 文件已存在,跳过下载 /root/autodl-tmp/llama2-7b/Responsible-Use-Guide.pdf\n",
      "14:42:24.792 aligo.INFO 开始下载文件 /root/autodl-tmp/llama2-7b/LICENSE.txt\n",
      "14:42:24.793 aligo.WARNING 文件已存在,跳过下载 /root/autodl-tmp/llama2-7b/LICENSE.txt\n",
      "14:42:24.794 aligo.INFO 开始下载文件 /root/autodl-tmp/llama2-7b/USE_POLICY.md\n",
      "14:42:24.794 aligo.WARNING 文件已存在,跳过下载 /root/autodl-tmp/llama2-7b/USE_POLICY.md\n",
      "14:42:24.795 aligo.INFO 开始下载文件 /root/autodl-tmp/llama2-7b/.gitattributes\n",
      "14:42:24.796 aligo.WARNING 文件已存在,跳过下载 /root/autodl-tmp/llama2-7b/.gitattributes\n",
      "14:42:24.796 aligo.INFO 开始下载文件 /root/autodl-tmp/llama2-7b/tokenizer.json\n",
      "14:42:24.797 aligo.WARNING 文件已存在,跳过下载 /root/autodl-tmp/llama2-7b/tokenizer.json\n",
      "14:42:24.797 aligo.INFO 开始下载文件 /root/autodl-tmp/llama2-7b/README.md\n",
      "14:42:24.798 aligo.WARNING 文件已存在,跳过下载 /root/autodl-tmp/llama2-7b/README.md\n",
      "14:42:24.799 aligo.INFO 开始下载文件 /root/autodl-tmp/llama2-7b/tokenizer_config.json\n",
      "14:42:24.799 aligo.WARNING 文件已存在,跳过下载 /root/autodl-tmp/llama2-7b/tokenizer_config.json\n",
      "14:42:24.799 aligo.INFO 开始下载文件 /root/autodl-tmp/llama2-7b/config.json\n",
      "14:42:24.800 aligo.WARNING 文件已存在,跳过下载 /root/autodl-tmp/llama2-7b/config.json\n",
      "14:42:24.800 aligo.INFO 开始下载文件 /root/autodl-tmp/llama2-7b/model.safetensors.index.json\n",
      "14:42:24.801 aligo.WARNING 文件已存在,跳过下载 /root/autodl-tmp/llama2-7b/model.safetensors.index.json\n",
      "14:42:24.802 aligo.INFO 开始下载文件 /root/autodl-tmp/llama2-7b/special_tokens_map.json\n",
      "14:42:24.803 aligo.WARNING 文件已存在,跳过下载 /root/autodl-tmp/llama2-7b/special_tokens_map.json\n",
      "14:42:24.803 aligo.INFO 开始下载文件 /root/autodl-tmp/llama2-7b/generation_config.json\n",
      "14:42:24.804 aligo.WARNING 文件已存在,跳过下载 /root/autodl-tmp/llama2-7b/generation_config.json\n",
      "14:42:24.805 aligo.INFO 开始下载文件 /root/autodl-tmp/llama2-7b/tokenizer.model\n",
      "14:42:24.805 aligo.WARNING 文件已存在,跳过下载 /root/autodl-tmp/llama2-7b/tokenizer.model\n",
      "14:42:24.806 aligo.INFO 开始下载文件 /root/autodl-tmp/llama2-7b/pytorch_model.bin.index.json\n",
      "14:42:24.807 aligo.WARNING 文件已存在,跳过下载 /root/autodl-tmp/llama2-7b/pytorch_model.bin.index.json\n"
     ]
    },
    {
     "data": {
      "text/plain": [
       "'/root/autodl-tmp/llama2-7b'"
      ]
     },
     "execution_count": 2,
     "metadata": {},
     "output_type": "execute_result"
    }
   ],
   "source": [
    "remote_path = 'llama2-7b/llama2-7b'\n",
    "file = ali.get_folder_by_path(remote_path)\n",
    "\n",
    "local_path = '/root/autodl-tmp/'\n",
    "ali.download_folder(folder_file_id=file.file_id, local_folder=local_path)\n"
   ]
  },
  {
   "cell_type": "markdown",
   "metadata": {},
   "source": []
  },
  {
   "cell_type": "code",
   "execution_count": 16,
   "metadata": {},
   "outputs": [],
   "source": [
    "with open(\"HealthCareMagic-100k.json\",'r',encoding='utf8') as f:\n",
    "    data = json.load(f)"
   ]
  },
  {
   "cell_type": "code",
   "execution_count": 18,
   "metadata": {},
   "outputs": [],
   "source": [
    "with open(\"HealthCareMagic-10k.json\",'a',encoding='utf8') as f:\n",
    "    json.dump(data[:10000],f)\n"
   ]
  },
  {
   "cell_type": "markdown",
   "metadata": {},
   "source": [
    "# Features"
   ]
  },
  {
   "cell_type": "code",
   "execution_count": null,
   "metadata": {},
   "outputs": [],
   "source": [
    "if self.use_apex:\n",
    "    with amp.scale_loss(loss, self.optimizer) as scaled_loss:\n",
    "        scaled_loss.backward()\n"
   ]
  }
 ],
 "metadata": {
  "kernelspec": {
   "display_name": "Python 3 (ipykernel)",
   "language": "python",
   "name": "python3"
  },
  "language_info": {
   "codemirror_mode": {
    "name": "ipython",
    "version": 3
   },
   "file_extension": ".py",
   "mimetype": "text/x-python",
   "name": "python",
   "nbconvert_exporter": "python",
   "pygments_lexer": "ipython3",
   "version": "3.10.13"
  }
 },
 "nbformat": 4,
 "nbformat_minor": 4
}
